{
 "cells": [
  {
   "cell_type": "code",
   "execution_count": null,
   "id": "031f5a15-e1bb-467d-89cf-eb6d5657c2a7",
   "metadata": {},
   "outputs": [],
   "source": []
  }
 ],
 "metadata": {
  "kernelspec": {
   "display_name": "",
   "name": ""
  },
  "language_info": {
   "name": ""
  }
 },
 "nbformat": 4,
 "nbformat_minor": 5
}
